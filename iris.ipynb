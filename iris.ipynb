{
 "cells": [
  {
   "cell_type": "code",
   "id": "initial_id",
   "metadata": {
    "collapsed": true,
    "ExecuteTime": {
     "end_time": "2024-11-17T15:01:41.318122Z",
     "start_time": "2024-11-17T15:01:41.301294Z"
    }
   },
   "source": [
    "from collections import Counter\n",
    "\n",
    "from sklearn import datasets\n",
    "\n",
    "irisData = datasets.load_iris()\n",
    "print(irisData.data)  #les features\n",
    "print(irisData.target)  # les targets\n",
    "print(irisData.data.shape)  #la taille des données (150 instances et 4 attributs)\n",
    "print(irisData.feature_names)\n",
    "print(irisData.target_names)\n",
    "print(irisData.data[32])  # les attributs de la 32ème instance\n",
    "print(irisData.target[32])  # la classe de la 32ème instance\n",
    "print(Counter(irisData.target))"
   ],
   "outputs": [
    {
     "name": "stdout",
     "output_type": "stream",
     "text": [
      "[[5.1 3.5 1.4 0.2]\n",
      " [4.9 3.  1.4 0.2]\n",
      " [4.7 3.2 1.3 0.2]\n",
      " [4.6 3.1 1.5 0.2]\n",
      " [5.  3.6 1.4 0.2]\n",
      " [5.4 3.9 1.7 0.4]\n",
      " [4.6 3.4 1.4 0.3]\n",
      " [5.  3.4 1.5 0.2]\n",
      " [4.4 2.9 1.4 0.2]\n",
      " [4.9 3.1 1.5 0.1]\n",
      " [5.4 3.7 1.5 0.2]\n",
      " [4.8 3.4 1.6 0.2]\n",
      " [4.8 3.  1.4 0.1]\n",
      " [4.3 3.  1.1 0.1]\n",
      " [5.8 4.  1.2 0.2]\n",
      " [5.7 4.4 1.5 0.4]\n",
      " [5.4 3.9 1.3 0.4]\n",
      " [5.1 3.5 1.4 0.3]\n",
      " [5.7 3.8 1.7 0.3]\n",
      " [5.1 3.8 1.5 0.3]\n",
      " [5.4 3.4 1.7 0.2]\n",
      " [5.1 3.7 1.5 0.4]\n",
      " [4.6 3.6 1.  0.2]\n",
      " [5.1 3.3 1.7 0.5]\n",
      " [4.8 3.4 1.9 0.2]\n",
      " [5.  3.  1.6 0.2]\n",
      " [5.  3.4 1.6 0.4]\n",
      " [5.2 3.5 1.5 0.2]\n",
      " [5.2 3.4 1.4 0.2]\n",
      " [4.7 3.2 1.6 0.2]\n",
      " [4.8 3.1 1.6 0.2]\n",
      " [5.4 3.4 1.5 0.4]\n",
      " [5.2 4.1 1.5 0.1]\n",
      " [5.5 4.2 1.4 0.2]\n",
      " [4.9 3.1 1.5 0.2]\n",
      " [5.  3.2 1.2 0.2]\n",
      " [5.5 3.5 1.3 0.2]\n",
      " [4.9 3.6 1.4 0.1]\n",
      " [4.4 3.  1.3 0.2]\n",
      " [5.1 3.4 1.5 0.2]\n",
      " [5.  3.5 1.3 0.3]\n",
      " [4.5 2.3 1.3 0.3]\n",
      " [4.4 3.2 1.3 0.2]\n",
      " [5.  3.5 1.6 0.6]\n",
      " [5.1 3.8 1.9 0.4]\n",
      " [4.8 3.  1.4 0.3]\n",
      " [5.1 3.8 1.6 0.2]\n",
      " [4.6 3.2 1.4 0.2]\n",
      " [5.3 3.7 1.5 0.2]\n",
      " [5.  3.3 1.4 0.2]\n",
      " [7.  3.2 4.7 1.4]\n",
      " [6.4 3.2 4.5 1.5]\n",
      " [6.9 3.1 4.9 1.5]\n",
      " [5.5 2.3 4.  1.3]\n",
      " [6.5 2.8 4.6 1.5]\n",
      " [5.7 2.8 4.5 1.3]\n",
      " [6.3 3.3 4.7 1.6]\n",
      " [4.9 2.4 3.3 1. ]\n",
      " [6.6 2.9 4.6 1.3]\n",
      " [5.2 2.7 3.9 1.4]\n",
      " [5.  2.  3.5 1. ]\n",
      " [5.9 3.  4.2 1.5]\n",
      " [6.  2.2 4.  1. ]\n",
      " [6.1 2.9 4.7 1.4]\n",
      " [5.6 2.9 3.6 1.3]\n",
      " [6.7 3.1 4.4 1.4]\n",
      " [5.6 3.  4.5 1.5]\n",
      " [5.8 2.7 4.1 1. ]\n",
      " [6.2 2.2 4.5 1.5]\n",
      " [5.6 2.5 3.9 1.1]\n",
      " [5.9 3.2 4.8 1.8]\n",
      " [6.1 2.8 4.  1.3]\n",
      " [6.3 2.5 4.9 1.5]\n",
      " [6.1 2.8 4.7 1.2]\n",
      " [6.4 2.9 4.3 1.3]\n",
      " [6.6 3.  4.4 1.4]\n",
      " [6.8 2.8 4.8 1.4]\n",
      " [6.7 3.  5.  1.7]\n",
      " [6.  2.9 4.5 1.5]\n",
      " [5.7 2.6 3.5 1. ]\n",
      " [5.5 2.4 3.8 1.1]\n",
      " [5.5 2.4 3.7 1. ]\n",
      " [5.8 2.7 3.9 1.2]\n",
      " [6.  2.7 5.1 1.6]\n",
      " [5.4 3.  4.5 1.5]\n",
      " [6.  3.4 4.5 1.6]\n",
      " [6.7 3.1 4.7 1.5]\n",
      " [6.3 2.3 4.4 1.3]\n",
      " [5.6 3.  4.1 1.3]\n",
      " [5.5 2.5 4.  1.3]\n",
      " [5.5 2.6 4.4 1.2]\n",
      " [6.1 3.  4.6 1.4]\n",
      " [5.8 2.6 4.  1.2]\n",
      " [5.  2.3 3.3 1. ]\n",
      " [5.6 2.7 4.2 1.3]\n",
      " [5.7 3.  4.2 1.2]\n",
      " [5.7 2.9 4.2 1.3]\n",
      " [6.2 2.9 4.3 1.3]\n",
      " [5.1 2.5 3.  1.1]\n",
      " [5.7 2.8 4.1 1.3]\n",
      " [6.3 3.3 6.  2.5]\n",
      " [5.8 2.7 5.1 1.9]\n",
      " [7.1 3.  5.9 2.1]\n",
      " [6.3 2.9 5.6 1.8]\n",
      " [6.5 3.  5.8 2.2]\n",
      " [7.6 3.  6.6 2.1]\n",
      " [4.9 2.5 4.5 1.7]\n",
      " [7.3 2.9 6.3 1.8]\n",
      " [6.7 2.5 5.8 1.8]\n",
      " [7.2 3.6 6.1 2.5]\n",
      " [6.5 3.2 5.1 2. ]\n",
      " [6.4 2.7 5.3 1.9]\n",
      " [6.8 3.  5.5 2.1]\n",
      " [5.7 2.5 5.  2. ]\n",
      " [5.8 2.8 5.1 2.4]\n",
      " [6.4 3.2 5.3 2.3]\n",
      " [6.5 3.  5.5 1.8]\n",
      " [7.7 3.8 6.7 2.2]\n",
      " [7.7 2.6 6.9 2.3]\n",
      " [6.  2.2 5.  1.5]\n",
      " [6.9 3.2 5.7 2.3]\n",
      " [5.6 2.8 4.9 2. ]\n",
      " [7.7 2.8 6.7 2. ]\n",
      " [6.3 2.7 4.9 1.8]\n",
      " [6.7 3.3 5.7 2.1]\n",
      " [7.2 3.2 6.  1.8]\n",
      " [6.2 2.8 4.8 1.8]\n",
      " [6.1 3.  4.9 1.8]\n",
      " [6.4 2.8 5.6 2.1]\n",
      " [7.2 3.  5.8 1.6]\n",
      " [7.4 2.8 6.1 1.9]\n",
      " [7.9 3.8 6.4 2. ]\n",
      " [6.4 2.8 5.6 2.2]\n",
      " [6.3 2.8 5.1 1.5]\n",
      " [6.1 2.6 5.6 1.4]\n",
      " [7.7 3.  6.1 2.3]\n",
      " [6.3 3.4 5.6 2.4]\n",
      " [6.4 3.1 5.5 1.8]\n",
      " [6.  3.  4.8 1.8]\n",
      " [6.9 3.1 5.4 2.1]\n",
      " [6.7 3.1 5.6 2.4]\n",
      " [6.9 3.1 5.1 2.3]\n",
      " [5.8 2.7 5.1 1.9]\n",
      " [6.8 3.2 5.9 2.3]\n",
      " [6.7 3.3 5.7 2.5]\n",
      " [6.7 3.  5.2 2.3]\n",
      " [6.3 2.5 5.  1.9]\n",
      " [6.5 3.  5.2 2. ]\n",
      " [6.2 3.4 5.4 2.3]\n",
      " [5.9 3.  5.1 1.8]]\n",
      "[0 0 0 0 0 0 0 0 0 0 0 0 0 0 0 0 0 0 0 0 0 0 0 0 0 0 0 0 0 0 0 0 0 0 0 0 0\n",
      " 0 0 0 0 0 0 0 0 0 0 0 0 0 1 1 1 1 1 1 1 1 1 1 1 1 1 1 1 1 1 1 1 1 1 1 1 1\n",
      " 1 1 1 1 1 1 1 1 1 1 1 1 1 1 1 1 1 1 1 1 1 1 1 1 1 1 2 2 2 2 2 2 2 2 2 2 2\n",
      " 2 2 2 2 2 2 2 2 2 2 2 2 2 2 2 2 2 2 2 2 2 2 2 2 2 2 2 2 2 2 2 2 2 2 2 2 2\n",
      " 2 2]\n",
      "(150, 4)\n",
      "['sepal length (cm)', 'sepal width (cm)', 'petal length (cm)', 'petal width (cm)']\n",
      "['setosa' 'versicolor' 'virginica']\n",
      "[5.2 4.1 1.5 0.1]\n",
      "0\n",
      "Counter({np.int64(0): 50, np.int64(1): 50, np.int64(2): 50})\n"
     ]
    }
   ],
   "execution_count": 156
  },
  {
   "metadata": {},
   "cell_type": "markdown",
   "source": [
    "# Analyse du Dataset Iris\n",
    "\n",
    "## Structure du Dataset\n",
    "- **Nombre total d'échantillons**: 150 instances\n",
    "- **Features (attributs)**: 4 mesures par instance\n",
    "    1. Longueur du sépale (cm)\n",
    "    2. Largeur du sépale (cm)\n",
    "    3. Longueur du pétale (cm)\n",
    "    4. Largeur du pétale (cm)\n",
    "- **Target (cible)**: 3 espèces d'iris différentes\n",
    "\n",
    "    | Code | Espèce     |\n",
    "    |------|------------|\n",
    "    | 0    | Setosa     |\n",
    "    | 1    | Versicolor |\n",
    "    | 2    | Virginica  |\n",
    "\n",
    "## Équilibre des Données\n",
    "Le dataset est parfaitement équilibré :\n",
    "- 50 échantillons par espèce\n",
    "- Chaque espèce représente 1/3 du dataset"
   ],
   "id": "6d6a33f0ac5d1de9"
  },
  {
   "metadata": {
    "ExecuteTime": {
     "end_time": "2024-11-17T15:01:41.434130Z",
     "start_time": "2024-11-17T15:01:41.323931Z"
    }
   },
   "cell_type": "code",
   "source": [
    "import pylab as pl\n",
    "from itertools import cycle\n",
    "\n",
    "\n",
    "def plot_2d(data, target, target_names):\n",
    "    colors = cycle('rgbcmykw')  # cycle de couleurs\n",
    "    target_ids = range(len(target_names))\n",
    "    pl.figure()\n",
    "    for i, c, label in zip(target_ids, colors, target_names):\n",
    "        pl.scatter(data[target == i, 2], data[target == i, 3], c=c, label=label)\n",
    "    pl.plot([2.5, 2.5], [0, 2.5], color=\"yellow\")\n",
    "    pl.xlabel(irisData.feature_names[2])\n",
    "    pl.ylabel(irisData.feature_names[3])\n",
    "    pl.legend()\n",
    "    pl.show()\n",
    "\n",
    "\n",
    "plot_2d(irisData.data, irisData.target, irisData.target_names)"
   ],
   "id": "83855abeede551ad",
   "outputs": [
    {
     "data": {
      "text/plain": [
       "<Figure size 640x480 with 1 Axes>"
      ],
      "image/png": "[encoded data removed]"
     },
     "metadata": {},
     "output_type": "display_data"
    }
   ],
   "execution_count": 157
  },
  {
   "metadata": {},
   "cell_type": "markdown",
   "source": [
    "#### Séparation de Setosa\n",
    "La classe Setosa est clairement distinguable en utilisant les mesures des pétales (la droite `Longueur du pétale = 2.5 cm`). Cette séparation est nette et sans chevauchement.\n",
    "\n",
    "#### Distinction Versicolor vs Virginica\n",
    "La séparation entre ces deux espèces est plus complexe. Il y a chevauchement si on utilise des droites.\n",
    "\n",
    "Sachant cela, on pourra tolerer une erreur du modèle entre Versicolor et Virginica, mais on ne tolérera pas d'erreurs pour Setosa"
   ],
   "id": "9b05d274b3de5ebb"
  },
  {
   "metadata": {
    "ExecuteTime": {
     "end_time": "2024-11-17T15:01:41.462909Z",
     "start_time": "2024-11-17T15:01:41.457546Z"
    }
   },
   "cell_type": "code",
   "source": [
    "from sklearn import naive_bayes\n",
    "\n",
    "nb = naive_bayes.MultinomialNB(fit_prior=True)  # un algo d'apprentissage\n",
    "nb.fit(irisData.data[:], irisData.target[:])\n",
    "p31 = nb.predict(irisData.data[31].reshape(1, -1))\n",
    "print(p31)\n",
    "plast = nb.predict(irisData.data[-1].reshape(1, -1))\n",
    "print(plast)\n",
    "p = nb.predict(irisData.data[:])\n",
    "print(p)\n"
   ],
   "id": "fa5095575c9f50f3",
   "outputs": [
    {
     "name": "stdout",
     "output_type": "stream",
     "text": [
      "[0]\n",
      "[2]\n",
      "[0 0 0 0 0 0 0 0 0 0 0 0 0 0 0 0 0 0 0 0 0 0 0 0 0 0 0 0 0 0 0 0 0 0 0 0 0\n",
      " 0 0 0 0 0 0 0 0 0 0 0 0 0 1 1 1 1 1 1 1 1 1 1 1 1 1 1 1 1 1 1 2 1 2 1 2 1\n",
      " 1 1 1 1 1 1 1 1 1 2 1 1 1 1 1 1 1 1 1 1 1 1 1 1 1 1 2 2 2 2 2 2 2 2 2 2 2\n",
      " 2 2 2 2 2 2 2 2 2 2 2 2 2 2 2 2 2 2 1 2 1 2 1 2 2 2 2 2 2 2 2 2 2 2 2 2 2\n",
      " 2 2]\n"
     ]
    }
   ],
   "execution_count": 158
  },
  {
   "metadata": {},
   "cell_type": "markdown",
   "source": "Comme on s'y attendait, notre modèle predit correctement les classes 0, mais confond un peu entre 1 et 2. Calculons l'erreur:",
   "id": "804c6539c415b309"
  },
  {
   "metadata": {
    "ExecuteTime": {
     "end_time": "2024-11-17T15:01:41.477671Z",
     "start_time": "2024-11-17T15:01:41.466917Z"
    }
   },
   "cell_type": "code",
   "source": [
    "nb1 = naive_bayes.MultinomialNB(fit_prior=True)\n",
    "nb1.fit(irisData.data[:99], irisData.target[:99])\n",
    "p1 = nb1.predict(irisData.data[100:149])\n",
    "print(p1)"
   ],
   "id": "1bdc89932d10ada8",
   "outputs": [
    {
     "name": "stdout",
     "output_type": "stream",
     "text": [
      "[1 1 1 1 1 1 1 1 1 1 1 1 1 1 1 1 1 1 1 1 1 1 1 1 1 1 1 1 1 1 1 1 1 1 1 1 1\n",
      " 1 1 1 1 1 1 1 1 1 1 1 1]\n"
     ]
    }
   ],
   "execution_count": 159
  },
  {
   "metadata": {},
   "cell_type": "markdown",
   "source": [
    "Ici, on réalise:\n",
    "- **Entraînement** : Uniquement sur les classes 0 (Setosa) et 1 (Versicolor)\n",
    "- **Test** : Sur la classe 2 (Virginica)\n",
    "\n",
    "Le modèle classifie systématiquement les Virginica comme Versicolor\n",
    "- **Explication** :\n",
    "  1. Le modèle ne connaît que deux classes (0 et 1).\n",
    "  2. La classe Versicolor (1) est morphologiquement plus proche de Virginica (2).\n",
    "  3. Le modèle choisit donc naturellement la classe la plus similaire.\n",
    "\n",
    "Il est donc necessaire d'entrainer le modele sur des données representatives de toutes les classes"
   ],
   "id": "bad645193fb3d1ff"
  },
  {
   "metadata": {
    "ExecuteTime": {
     "end_time": "2024-11-17T15:01:41.494261Z",
     "start_time": "2024-11-17T15:01:41.487187Z"
    }
   },
   "cell_type": "code",
   "source": [
    "import numpy as np\n",
    "\n",
    "ea = 0\n",
    "for i in range(len(irisData.data)):\n",
    "    if irisData.target[i] != p[i]:\n",
    "        ea = ea + 1\n",
    "print(ea / len(irisData.data))  # erreur calculée \"manuellement\"\n",
    "print(np.count_nonzero(irisData.target - p) / len(irisData.data))  # erreur par opération sur les tableaux\n",
    "score = nb.score(irisData.data, irisData.target)\n",
    "print(1 - score)  # erreur calculée en utilisant score de scikit-learn"
   ],
   "id": "654bc45a94128586",
   "outputs": [
    {
     "name": "stdout",
     "output_type": "stream",
     "text": [
      "0.04666666666666667\n",
      "0.04666666666666667\n",
      "0.046666666666666634\n"
     ]
    }
   ],
   "execution_count": 160
  },
  {
   "metadata": {},
   "cell_type": "markdown",
   "source": [
    "L'erreur sur le training set est assez faible. (0.046).\n",
    "Calculons-la maintenant sur le testing set pour mesurer la capacité de généralisation du modèle et détecter un potentiel surapprentissage."
   ],
   "id": "3f7b87ef818de43d"
  },
  {
   "metadata": {
    "ExecuteTime": {
     "end_time": "2024-11-17T15:01:41.516625Z",
     "start_time": "2024-11-17T15:01:41.504534Z"
    }
   },
   "cell_type": "code",
   "source": [
    "def split(s, train_size=0.67):\n",
    "    combined_data = np.column_stack((s[0], s[1]))\n",
    "    np.random.shuffle(combined_data)\n",
    "    dataS1_size = int(len(combined_data) * train_size)\n",
    "    data_S1 = combined_data[:dataS1_size, :-1]\n",
    "    target_S1 = combined_data[:dataS1_size, -1]\n",
    "    data_S2 = combined_data[dataS1_size:, :-1]\n",
    "    target_S2 = combined_data[dataS1_size:, -1]\n",
    "    return data_S1, target_S1, data_S2, target_S2\n",
    "\n",
    "\n",
    "def test(s, clf, train_size=0.67):\n",
    "    data_S1, target_S1, data_S2, target_S2 = split(s, train_size)\n",
    "    clf.fit(data_S1, target_S1)\n",
    "    return 1 - clf.score(data_S2, target_S2)\n",
    "\n",
    "\n",
    "test([irisData.data, irisData.target], naive_bayes.MultinomialNB(fit_prior=True))"
   ],
   "id": "1a256b3833ecb154",
   "outputs": [
    {
     "data": {
      "text/plain": [
       "0.36"
      ]
     },
     "execution_count": 161,
     "metadata": {},
     "output_type": "execute_result"
    }
   ],
   "execution_count": 161
  },
  {
   "metadata": {},
   "cell_type": "markdown",
   "source": "On obtient des erreurs differentes à chaque fois. Ceci est dû au fait que la distribution entre l'échantillon de test et d'apprentissage est aleatoire et donc change à chaque execution.",
   "id": "fc415ef9193a579"
  },
  {
   "metadata": {
    "ExecuteTime": {
     "end_time": "2024-11-17T15:02:22.636598Z",
     "start_time": "2024-11-17T15:01:41.524794Z"
    }
   },
   "cell_type": "code",
   "source": [
    "def calcul_erreur_moyenne(t, clf, train_size=0.67):\n",
    "    moy = 0\n",
    "    for _ in range(t):\n",
    "        moy += test([irisData.data, irisData.target], clf, train_size)\n",
    "    return moy / t\n",
    "\n",
    "\n",
    "repetitions = [10, 50, 100, 200, 500, 1000]\n",
    "for r in repetitions:\n",
    "    print(calcul_erreur_moyenne(r, naive_bayes.MultinomialNB(fit_prior=True)))\n",
    "\n",
    "\n",
    "def calcul_moyenne_erreur_moyenne(t, rep, clf, train_size=0.67):\n",
    "    moy = 0\n",
    "    for _ in range(rep):\n",
    "        moy += calcul_erreur_moyenne(t, clf, train_size)\n",
    "    return moy / rep\n",
    "\n",
    "\n",
    "print('--Moyenne--')\n",
    "for r in repetitions:\n",
    "    print(calcul_moyenne_erreur_moyenne(r, 20, naive_bayes.MultinomialNB(fit_prior=True)))\n"
   ],
   "id": "22ad0cf4613fd176",
   "outputs": [
    {
     "name": "stdout",
     "output_type": "stream",
     "text": [
      "0.25199999999999995\n",
      "0.18880000000000005\n",
      "0.18020000000000003\n",
      "0.20499999999999996\n",
      "0.1980400000000003\n",
      "0.20286000000000026\n",
      "--Moyenne--\n",
      "0.20550000000000002\n",
      "0.20573999999999998\n",
      "0.20802\n",
      "0.19868499999999997\n",
      "0.2029520000000001\n",
      "0.2010010000000002\n"
     ]
    }
   ],
   "execution_count": 162
  },
  {
   "metadata": {},
   "cell_type": "markdown",
   "source": "L'erreur moyenne est plus stable lorsqu'on augmente t (environ 0.2). Ceci s'explique par la loi des grands nombres : Plus on augmente le nombre de repetitions, plus la moyenne observée converge vers la moyenne théorique.",
   "id": "9adef40edc8bcba9"
  },
  {
   "metadata": {
    "ExecuteTime": {
     "end_time": "2024-11-17T15:03:04.005205Z",
     "start_time": "2024-11-17T15:02:22.647162Z"
    }
   },
   "cell_type": "code",
   "source": [
    "print('--Moyenne avec 10% pour le test--')\n",
    "for r in repetitions:\n",
    "    print(calcul_moyenne_erreur_moyenne(r, 20, naive_bayes.MultinomialNB(fit_prior=True), 0.9))"
   ],
   "id": "a4a840ab37e29777",
   "outputs": [
    {
     "name": "stdout",
     "output_type": "stream",
     "text": [
      "--Moyenne avec 10% pour le test--\n",
      "0.11833333333333333\n",
      "0.12306666666666666\n",
      "0.12053333333333324\n",
      "0.1217499999999998\n",
      "0.12194666666666706\n",
      "0.12166666666666703\n"
     ]
    }
   ],
   "execution_count": 163
  },
  {
   "metadata": {},
   "cell_type": "markdown",
   "source": "L'erreur est plus faible lorsqu'on utilise uniquement 10% des données pour le test (environ 0.12). Cela s'explique par le fait que plus de données sont utilisées pour le training du modèle (90%), le rendant donc plus précis.",
   "id": "569a282650308969"
  },
  {
   "metadata": {
    "ExecuteTime": {
     "end_time": "2024-11-17T15:03:04.055947Z",
     "start_time": "2024-11-17T15:03:04.015526Z"
    }
   },
   "cell_type": "code",
   "source": [
    "from sklearn.model_selection import cross_val_score\n",
    "\n",
    "k_folds = [2, 3, 5, 8, 10]\n",
    "for k in k_folds:\n",
    "    score = cross_val_score(naive_bayes.MultinomialNB(fit_prior=True), irisData.data, irisData.target, cv=k)\n",
    "    print(f\"Résultats pour {k}-folds: {1 - score.mean()}\")"
   ],
   "id": "85e22a59b808148b",
   "outputs": [
    {
     "name": "stdout",
     "output_type": "stream",
     "text": [
      "Résultats pour 2-folds: 0.046666666666666634\n",
      "Résultats pour 3-folds: 0.053333333333333344\n",
      "Résultats pour 5-folds: 0.046666666666666634\n",
      "Résultats pour 8-folds: 0.05263157894736836\n",
      "Résultats pour 10-folds: 0.046666666666666634\n"
     ]
    }
   ],
   "execution_count": 164
  },
  {
   "metadata": {},
   "cell_type": "markdown",
   "source": "Le cross validation donne les meilleurs résultats (environ 0.05 d'erreur).",
   "id": "4fa5ea9ecc7808c1"
  },
  {
   "metadata": {
    "ExecuteTime": {
     "end_time": "2024-11-17T15:04:15.064452Z",
     "start_time": "2024-11-17T15:03:04.283528Z"
    }
   },
   "cell_type": "code",
   "source": [
    "from sklearn.tree import DecisionTreeClassifier\n",
    "\n",
    "for r in repetitions:\n",
    "    print(calcul_erreur_moyenne(r, DecisionTreeClassifier()))\n",
    "\n",
    "\n",
    "print('--Moyenne--')\n",
    "for r in repetitions:\n",
    "    print(calcul_moyenne_erreur_moyenne(r, 20, DecisionTreeClassifier()))\n",
    "\n",
    "print('--Moyenne avec 10% pour le test--')\n",
    "for r in repetitions:\n",
    "    print(calcul_moyenne_erreur_moyenne(r, 20, DecisionTreeClassifier(), 0.9))\n",
    "\n",
    "for k in k_folds:\n",
    "    score = cross_val_score(DecisionTreeClassifier(), irisData.data, irisData.target, cv=k)\n",
    "    print(f\"Résultats pour {k}-folds: {1 - score.mean()}\")"
   ],
   "id": "8f55bec0845be3bf",
   "outputs": [
    {
     "name": "stdout",
     "output_type": "stream",
     "text": [
      "0.046000000000000006\n",
      "0.05520000000000004\n",
      "0.05480000000000004\n",
      "0.05480000000000002\n",
      "0.05355999999999974\n",
      "0.05484000000000004\n",
      "--Moyenne--\n",
      "0.056600000000000025\n",
      "0.05398000000000005\n",
      "0.05411000000000003\n",
      "0.05477500000000002\n",
      "0.054367999999999694\n",
      "0.05475900000000002\n",
      "--Moyenne avec 10% pour le test--\n",
      "0.05199999999999999\n",
      "0.05526666666666665\n",
      "0.052566666666666616\n",
      "0.05443333333333322\n",
      "0.051973333333333184\n",
      "0.05348000000000044\n",
      "Résultats pour 2-folds: 0.040000000000000036\n",
      "Résultats pour 3-folds: 0.040000000000000036\n",
      "Résultats pour 5-folds: 0.039999999999999813\n",
      "Résultats pour 8-folds: 0.04641812865497075\n",
      "Résultats pour 10-folds: 0.040000000000000036\n"
     ]
    }
   ],
   "execution_count": 165
  },
  {
   "metadata": {},
   "cell_type": "markdown",
   "source": "On remarque que pour le Decision Tree, l'erreur est toujours autour de 0.05, soit mieux qu'avec le Naive Bayes)",
   "id": "384d1b3b708bba89"
  }
 ],
 "metadata": {
  "kernelspec": {
   "display_name": "Python 3",
   "language": "python",
   "name": "python3"
  },
  "language_info": {
   "codemirror_mode": {
    "name": "ipython",
    "version": 2
   },
   "file_extension": ".py",
   "mimetype": "text/x-python",
   "name": "python",
   "nbconvert_exporter": "python",
   "pygments_lexer": "ipython2",
   "version": "2.7.6"
  }
 },
 "nbformat": 4,
 "nbformat_minor": 5
}
